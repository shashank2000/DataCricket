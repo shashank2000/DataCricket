{
 "cells": [
  {
   "cell_type": "markdown",
   "metadata": {},
   "source": [
    "Video:\n",
    "\n",
    "I've always wanted to be the guy at the table\n",
    "\n",
    "A team is fundamentally composed of players, and a team is equal to the sum of the abilities of its players (overriding assumption). Are there other factors at play here? Yes, for sure. I am not considering them for now.  \n",
    "What I am trying to do:\n",
    "- look at each player, and classify them as 'batsmen' or 'bowlers' or 'all rounders' - with this model, the best player in the world is the best bowler and best batman. All rounders are just as effective as really good batsmen/bowlers - not actually true/debatable. \n",
    "- assign each player an ELO score. I tried using a baseball sabermetrics approach, that was not feasible here. \n",
    "- created my own index:\n",
    "We are trying to quantify the skill of a player/how valuable they are to a team (which is a fundamentally different question). \n",
    "every player has a score. Each time the team the player is on wins, he gets a point (seniority's gotta count for something)\n",
    "I realized this is not something that is super feasible, so I instead tried to model the runs scored by Virat Kohli in every game in the IPL. Generalize this with a Beta, and then we have uncertainty as well - that will be the prior and we can use MAP. \n",
    "\n",
    "Throw in baseball/sabermetrics buzzwords, use Massey's Method or something. \n",
    "\n",
    "Parsing the data was really challenging.\n",
    "\n",
    "https://en.wikipedia.org/wiki/Poisson_point_process\n",
    "\n",
    "https://www.youtube.com/watch?v=kIPL3N2Xk_c\n",
    "\n",
    "\n",
    "\n",
    "\n",
    "\n",
    "\n",
    "\n",
    "\n",
    "\n",
    "\n",
    "https://devarea.com/angular-and-django-adding-numpy-pandas-matplotlib-and-seaborn/#.XO74nPZKgWo\n",
    "http://seaborn.pydata.org/\n",
    "\n",
    "\n",
    "\n",
    "Beta distribution for the probability that the bowler gets a batsman out at any given ball/gets a dot/four/six/single/double\n",
    "\n",
    "ELO Ratings for cricket players/any team sport\n",
    "Considers things like how well they gel with the rest of the team\n",
    "\n",
    "Looks simply at how many wins they've been a part of + how many runs they hit in each game \n"
   ]
  },
  {
   "cell_type": "code",
   "execution_count": 1,
   "metadata": {},
   "outputs": [
    {
     "name": "stdout",
     "output_type": "stream",
     "text": [
      "Collecting package metadata: done\n",
      "Solving environment: done\n",
      "\n",
      "# All requested packages already installed.\n",
      "\n"
     ]
    },
    {
     "data": {
      "application/javascript": [
       "IPython.notebook.set_autosave_interval(60000)"
      ]
     },
     "metadata": {},
     "output_type": "display_data"
    },
    {
     "name": "stdout",
     "output_type": "stream",
     "text": [
      "Autosaving every 60 seconds\n"
     ]
    }
   ],
   "source": [
    "import sys\n",
    "!conda install --yes --prefix {sys.prefix} pyYAML\n",
    "%autosave 60\n"
   ]
  },
  {
   "cell_type": "code",
   "execution_count": 6,
   "metadata": {},
   "outputs": [
    {
     "name": "stdout",
     "output_type": "stream",
     "text": [
      "hello is this shit working\n",
      "100\n",
      "200\n",
      "300\n",
      "400\n",
      "500\n",
      "600\n",
      "700\n",
      "757\n"
     ]
    }
   ],
   "source": [
    "import yaml\n",
    "import os\n",
    "print(\"hello is this shit working\")\n",
    "dataMap = []\n",
    "i = 0\n",
    "for filename in os.listdir('ipl'):\n",
    "    i += 1\n",
    "    if (i % 100 == 0):\n",
    "        print(i)\n",
    "    if filename.endswith(\".yaml\"): \n",
    "         with open('ipl/' + filename) as f:\n",
    "                dataMap.append(yaml.safe_load(f))\n",
    "    else:\n",
    "        continue\n",
    "print(i)"
   ]
  },
  {
   "cell_type": "code",
   "execution_count": null,
   "metadata": {},
   "outputs": [],
   "source": [
    "dataMap"
   ]
  },
  {
   "cell_type": "code",
   "execution_count": null,
   "metadata": {},
   "outputs": [],
   "source": [
    "len(dataMap)"
   ]
  },
  {
   "cell_type": "code",
   "execution_count": null,
   "metadata": {},
   "outputs": [],
   "source": [
    "#print a list of all players\n",
    "teams = []\n",
    "for element in dataMap:\n",
    "    if element['info']['outcome']['winner']:\n",
    "        team = element['info']['outcome']['winner']\n",
    "    else:\n",
    "        team = 0\n",
    "    if team not in teams:\n",
    "        teams.append(team)\n",
    "        \n",
    "print(teams)"
   ]
  },
  {
   "cell_type": "code",
   "execution_count": null,
   "metadata": {},
   "outputs": [],
   "source": []
  }
 ],
 "metadata": {
  "kernelspec": {
   "display_name": "Python 3",
   "language": "python",
   "name": "python3"
  },
  "language_info": {
   "codemirror_mode": {
    "name": "ipython",
    "version": 3
   },
   "file_extension": ".py",
   "mimetype": "text/x-python",
   "name": "python",
   "nbconvert_exporter": "python",
   "pygments_lexer": "ipython3",
   "version": "3.7.3"
  }
 },
 "nbformat": 4,
 "nbformat_minor": 2
}
